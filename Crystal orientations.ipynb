{
 "metadata": {
  "name": "",
  "signature": "sha256:c4866fb00f6f08ec9ac05251b59b1631aae4f0cf3fce0d745f03b32ff7062414"
 },
 "nbformat": 3,
 "nbformat_minor": 0,
 "worksheets": [
  {
   "cells": [
    {
     "cell_type": "code",
     "collapsed": false,
     "input": [
      "%matplotlib inline"
     ],
     "language": "python",
     "metadata": {},
     "outputs": [],
     "prompt_number": 1
    },
    {
     "cell_type": "heading",
     "level": 3,
     "metadata": {},
     "source": [
      "The orientation matrix"
     ]
    },
    {
     "cell_type": "markdown",
     "metadata": {},
     "source": [
      "The orientation matrix is given by the following:\n",
      "\n",
      "$\\left( \\begin{array}{ccc}\n",
      "cos\\phi_1 cos\\phi_2 - sin\\phi_1 sin\\phi_2 cos\\Phi & sin\\phi_1 cos\\phi_2 - cos\\phi_1 sin\\phi_2 cos\\Phi & sin\\phi_2 sin\\Phi \\\\\n",
      "-cos\\phi_1 sin\\phi_2 -sin\\phi_1 cos\\phi_2 cos\\Phi & -sin\\phi_1 sin\\phi_2 + cos\\phi_1 cos\\phi_2 cos\\Phi & cos\\phi_2sin\\Phi \\\\\n",
      "sin\\phi_1 sin\\Phi & -cos\\phi_1 sin\\Phi & cos\\Phi \\end{array} \\right)$\n",
      "\n",
      "or:\n",
      "\n",
      "$\\left( \\begin{array}{ccc}\n",
      "c1c2 - s1s2C & s1c2 - c1s2C & s2 S \\\\\n",
      "-c1 s2 -s1 c2 C & -s1 s2 + c1 c2 C & c2 S \\\\\n",
      "s1 S & -c1 S & C \\end{array} \\right)$\n",
      "\n",
      "    "
     ]
    },
    {
     "cell_type": "code",
     "collapsed": false,
     "input": [
      "def G_matrix (euler_angles):\n",
      "    ''' Calculate orientation matrix from array of euler angles [phi1,Phi,phi_2]'''\n",
      "    p1=(euler_angles[0])*pi/180\n",
      "    P=(euler_angles[1])*pi/180\n",
      "    p2=(euler_angles[2])*pi/180\n",
      "    \n",
      "    c1=cos(p1); c2=cos(p2); C=cos(P); \n",
      "    s1=sin(p1); s2=sin(p2); S=sin(P);\n",
      "    G_matrix=matrix([[(c1*c2-s1*s2*C),(s1*c2-c1*s2*C), s2*S],[(-c1*s2 -s1*c2*C), (-s1*s2 + c1*c2*C) ,c2*S],[s1*S, -c1*S,C]])\n",
      "    return G_matrix"
     ],
     "language": "python",
     "metadata": {},
     "outputs": [],
     "prompt_number": 2
    },
    {
     "cell_type": "code",
     "collapsed": false,
     "input": [
      "a=G_matrix([45,3,0])\n",
      "print a"
     ],
     "language": "python",
     "metadata": {},
     "outputs": [
      {
       "output_type": "stream",
       "stream": "stdout",
       "text": [
        "[[ 0.70710678  0.70710678  0.        ]\n",
        " [-0.70613772  0.70613772  0.05233596]\n",
        " [ 0.03700711 -0.03700711  0.99862953]]\n"
       ]
      }
     ],
     "prompt_number": 3
    },
    {
     "cell_type": "heading",
     "level": 4,
     "metadata": {},
     "source": [
      "arcsin(sqrt(2)/sqrt(3))*180/pi"
     ]
    },
    {
     "cell_type": "code",
     "collapsed": false,
     "input": [
      "35./cos(45)"
     ],
     "language": "python",
     "metadata": {},
     "outputs": [
      {
       "metadata": {},
       "output_type": "pyout",
       "prompt_number": 4,
       "text": [
        "66.625804259154862"
       ]
      }
     ],
     "prompt_number": 4
    },
    {
     "cell_type": "code",
     "collapsed": false,
     "input": [
      "x=a[[0],:]\n",
      "print x\n",
      "print x[0,0]"
     ],
     "language": "python",
     "metadata": {},
     "outputs": [
      {
       "output_type": "stream",
       "stream": "stdout",
       "text": [
        "[[ 0.70710678  0.70710678  0.        ]]\n",
        "0.707106781187\n"
       ]
      }
     ],
     "prompt_number": 5
    },
    {
     "cell_type": "markdown",
     "metadata": {},
     "source": [
      "The first column gives the crystal direction along x, the second along y and the last along z. For a loading direction along X, the vector is given by column 1. So we have X along x, Y along y and Z along z:"
     ]
    },
    {
     "cell_type": "markdown",
     "metadata": {},
     "source": [
      "For our IPF (see below) plot we need $\\alpha$ and $\\beta$."
     ]
    },
    {
     "cell_type": "markdown",
     "metadata": {},
     "source": [
      "$\\alpha= acos(X_1)=acos(cos\\phi_1 cos\\phi_2 - sin\\phi_1 sin\\phi_2)$"
     ]
    },
    {
     "cell_type": "markdown",
     "metadata": {},
     "source": [
      "$\\beta=atan(\\frac{X_3}{X_2})=atan(\\frac{sin\\phi_1 sin\\Phi}{-cos\\phi_1 sin\\phi_2 -sin\\phi_1 cos\\phi_2 cos\\Phi})$"
     ]
    },
    {
     "cell_type": "markdown",
     "metadata": {},
     "source": [
      "If we make $\\phi_2=0$, then  "
     ]
    },
    {
     "cell_type": "markdown",
     "metadata": {},
     "source": [
      "$\\alpha=acos(cos\\phi_)=\\phi_1$ and"
     ]
    },
    {
     "cell_type": "markdown",
     "metadata": {},
     "source": [
      "$\\beta=atan(\\frac{ sin\\phi_1 sin\\Phi }{-sin\\phi_1 cos\\Phi })=\\Phi$"
     ]
    },
    {
     "cell_type": "markdown",
     "metadata": {},
     "source": [
      "So $\\phi_1=\\alpha$ and $\\Phi= -\\beta$"
     ]
    },
    {
     "cell_type": "markdown",
     "metadata": {},
     "source": [
      "$\\alpha$ and \\beta range from 0 to 45$^\\circ$,  so we can create the arrays:"
     ]
    },
    {
     "cell_type": "code",
     "collapsed": false,
     "input": [
      "alpha=linspace(0,pi/4)\n",
      "beta=linspace(0,pi/4)"
     ],
     "language": "python",
     "metadata": {},
     "outputs": [],
     "prompt_number": 6
    },
    {
     "cell_type": "code",
     "collapsed": false,
     "input": [
      "print alpha*180/pi"
     ],
     "language": "python",
     "metadata": {},
     "outputs": [
      {
       "output_type": "stream",
       "stream": "stdout",
       "text": [
        "[  0.           0.91836735   1.83673469   2.75510204   3.67346939\n",
        "   4.59183673   5.51020408   6.42857143   7.34693878   8.26530612\n",
        "   9.18367347  10.10204082  11.02040816  11.93877551  12.85714286\n",
        "  13.7755102   14.69387755  15.6122449   16.53061224  17.44897959\n",
        "  18.36734694  19.28571429  20.20408163  21.12244898  22.04081633\n",
        "  22.95918367  23.87755102  24.79591837  25.71428571  26.63265306\n",
        "  27.55102041  28.46938776  29.3877551   30.30612245  31.2244898\n",
        "  32.14285714  33.06122449  33.97959184  34.89795918  35.81632653\n",
        "  36.73469388  37.65306122  38.57142857  39.48979592  40.40816327\n",
        "  41.32653061  42.24489796  43.16326531  44.08163265  45.        ]\n"
       ]
      }
     ],
     "prompt_number": 7
    },
    {
     "cell_type": "code",
     "collapsed": false,
     "input": [
      "print beta*180/pi"
     ],
     "language": "python",
     "metadata": {},
     "outputs": [
      {
       "output_type": "stream",
       "stream": "stdout",
       "text": [
        "[  0.           0.91836735   1.83673469   2.75510204   3.67346939\n",
        "   4.59183673   5.51020408   6.42857143   7.34693878   8.26530612\n",
        "   9.18367347  10.10204082  11.02040816  11.93877551  12.85714286\n",
        "  13.7755102   14.69387755  15.6122449   16.53061224  17.44897959\n",
        "  18.36734694  19.28571429  20.20408163  21.12244898  22.04081633\n",
        "  22.95918367  23.87755102  24.79591837  25.71428571  26.63265306\n",
        "  27.55102041  28.46938776  29.3877551   30.30612245  31.2244898\n",
        "  32.14285714  33.06122449  33.97959184  34.89795918  35.81632653\n",
        "  36.73469388  37.65306122  38.57142857  39.48979592  40.40816327\n",
        "  41.32653061  42.24489796  43.16326531  44.08163265  45.        ]\n"
       ]
      }
     ],
     "prompt_number": 8
    },
    {
     "cell_type": "heading",
     "level": 3,
     "metadata": {},
     "source": [
      "IPF frame"
     ]
    },
    {
     "cell_type": "markdown",
     "metadata": {},
     "source": [
      "Here we create the borders of an IPF and plot some more or less evenly spaced points on it"
     ]
    },
    {
     "cell_type": "code",
     "collapsed": true,
     "input": [
      "a_x=alpha*180/pi\n",
      "a_y=ones(50)\n",
      "b_x=alpha[-1]*180/pi*cos(beta)\n",
      "b_y=alpha[-1]*180/pi*sin(beta)+1\n",
      "c_x=alpha*180/pi*cos(beta[-1])\n",
      "c_y=c_x*tan(beta[-1])+1\n",
      "\n",
      "plot(c_x,c_y,'k')\n",
      "plot(a_x,a_y,'k')\n",
      "plot(b_x,b_y,'k')\n",
      "#make look good\n",
      "axis('equal')\n",
      "axis('off')\n",
      "#add labels\n",
      "text(-1,-1,'100')\n",
      "text(a_x.max()+1,-1,'110')\n",
      "text(b_x[-1]+1,b_y[-1]+1,'111')\n",
      "\n",
      "'''plotting alpha and beta combinations created earlier. Enumerate and [::n] are use to \n",
      "sample the beta array differently depending on the value of alpha to get more or less an even spacing'''\n",
      "for i,alpha_1 in enumerate(alpha):\n",
      "    for beta_1 in beta[::(100/(i+1))]:\n",
      "        p_x=alpha_1*180/pi*cos(beta_1)\n",
      "        p_y=p_x*tan(beta_1)\n",
      "        plot(p_x,p_y+1,'r+')\n",
      "        plot(c_x,c_y,'r+')\n",
      "        plot(a_x,a_y,'r+')\n",
      "        plot(b_x,b_y,'r+')"
     ],
     "language": "python",
     "metadata": {},
     "outputs": [
      {
       "metadata": {},
       "output_type": "display_data",
       "png": "[encoded data removed]",
       "text": [
        "<matplotlib.figure.Figure at 0x10b796a10>"
       ]
      }
     ],
     "prompt_number": 9
    },
    {
     "cell_type": "markdown",
     "metadata": {},
     "source": [
      "We can now create a function to plot the pole of any euler angle combination:"
     ]
    },
    {
     "cell_type": "code",
     "collapsed": false,
     "input": [
      "def plot_pole_X(Phi,phi_1):\n",
      "    '''Plots point on X inverse pole figure from euler angles for phi2=0 only'''\n",
      "    \n",
      "    Phi=abs(Phi)\n",
      "    phi_1=abs(phi_1)\n",
      "    \n",
      "    if Phi>45.0:\n",
      "        Phi=90-Phi\n",
      "    #this is not correct. I have to think about this.\n",
      "    if phi_1>45:\n",
      "        phi_1=90-phi_1   \n",
      "        \n",
      "\n",
      "    a_x=alpha*180/pi\n",
      "    a_y=ones(50)\n",
      "    b_x=alpha[-1]*180/pi*cos(beta)\n",
      "    b_y=alpha[-1]*180/pi*sin(beta)+1\n",
      "    c_x=alpha*180/pi*cos(beta[-1])\n",
      "    c_y=c_x*tan(beta[-1])+1\n",
      "\n",
      "    plot(c_x,c_y,'k')\n",
      "    plot(a_x,a_y,'k')\n",
      "    plot(b_x,b_y,'k')\n",
      "    #make look good\n",
      "    axis('equal')\n",
      "    axis('off')\n",
      "    #add labels\n",
      "    text(-1,-1,'100')\n",
      "    text(a_x.max()+1,-1,'110')\n",
      "    text(b_x[-1]+1,b_y[-1]+1,'111')\n",
      "    \n",
      "    #plot point\n",
      "    alpha_1=Phi*pi/180\n",
      "    beta_1=phi_1*pi/180\n",
      "    p_x=alpha_1*180/pi*cos(beta_1)\n",
      "    p_y=p_x*tan(beta_1)+1\n",
      "    plot(p_x,p_y,'r+',ms=14)\n",
      "    label='['+ str(phi_1) +', ' + str(Phi) + ',0.0] '\n",
      "    text(p_x+1,p_y,label)"
     ],
     "language": "python",
     "metadata": {},
     "outputs": [],
     "prompt_number": 16
    },
    {
     "cell_type": "heading",
     "level": 3,
     "metadata": {},
     "source": [
      "Testing:"
     ]
    },
    {
     "cell_type": "code",
     "collapsed": false,
     "input": [
      "eulers=[90,35,45]\n",
      "plot_pole_X(eulers[1],eulers[0])\n",
      "print G_matrix(eulers)"
     ],
     "language": "python",
     "metadata": {},
     "outputs": [
      {
       "ename": "ValueError",
       "evalue": "x and y must have same first dimension",
       "output_type": "pyerr",
       "traceback": [
        "\u001b[0;31m---------------------------------------------------------------------------\u001b[0m\n\u001b[0;31mValueError\u001b[0m                                Traceback (most recent call last)",
        "\u001b[0;32m<ipython-input-17-5225bf45e46c>\u001b[0m in \u001b[0;36m<module>\u001b[0;34m()\u001b[0m\n\u001b[1;32m      1\u001b[0m \u001b[0meulers\u001b[0m\u001b[0;34m=\u001b[0m\u001b[0;34m[\u001b[0m\u001b[0;36m90\u001b[0m\u001b[0;34m,\u001b[0m\u001b[0;36m35\u001b[0m\u001b[0;34m,\u001b[0m\u001b[0;36m45\u001b[0m\u001b[0;34m]\u001b[0m\u001b[0;34m\u001b[0m\u001b[0m\n\u001b[0;32m----> 2\u001b[0;31m \u001b[0mplot_pole_X\u001b[0m\u001b[0;34m(\u001b[0m\u001b[0meulers\u001b[0m\u001b[0;34m[\u001b[0m\u001b[0;36m1\u001b[0m\u001b[0;34m]\u001b[0m\u001b[0;34m,\u001b[0m\u001b[0meulers\u001b[0m\u001b[0;34m[\u001b[0m\u001b[0;36m0\u001b[0m\u001b[0;34m]\u001b[0m\u001b[0;34m)\u001b[0m\u001b[0;34m\u001b[0m\u001b[0m\n\u001b[0m\u001b[1;32m      3\u001b[0m \u001b[0;32mprint\u001b[0m \u001b[0mG_matrix\u001b[0m\u001b[0;34m(\u001b[0m\u001b[0meulers\u001b[0m\u001b[0;34m)\u001b[0m\u001b[0;34m\u001b[0m\u001b[0m\n",
        "\u001b[0;32m<ipython-input-16-3d2193a19baf>\u001b[0m in \u001b[0;36mplot_pole_X\u001b[0;34m(Phi, phi_1)\u001b[0m\n\u001b[1;32m     20\u001b[0m \u001b[0;34m\u001b[0m\u001b[0m\n\u001b[1;32m     21\u001b[0m     \u001b[0mplot\u001b[0m\u001b[0;34m(\u001b[0m\u001b[0mc_x\u001b[0m\u001b[0;34m,\u001b[0m\u001b[0mc_y\u001b[0m\u001b[0;34m,\u001b[0m\u001b[0;34m'k'\u001b[0m\u001b[0;34m)\u001b[0m\u001b[0;34m\u001b[0m\u001b[0m\n\u001b[0;32m---> 22\u001b[0;31m     \u001b[0mplot\u001b[0m\u001b[0;34m(\u001b[0m\u001b[0ma_x\u001b[0m\u001b[0;34m,\u001b[0m\u001b[0ma_y\u001b[0m\u001b[0;34m,\u001b[0m\u001b[0;34m'k'\u001b[0m\u001b[0;34m)\u001b[0m\u001b[0;34m\u001b[0m\u001b[0m\n\u001b[0m\u001b[1;32m     23\u001b[0m     \u001b[0mplot\u001b[0m\u001b[0;34m(\u001b[0m\u001b[0mb_x\u001b[0m\u001b[0;34m,\u001b[0m\u001b[0mb_y\u001b[0m\u001b[0;34m,\u001b[0m\u001b[0;34m'k'\u001b[0m\u001b[0;34m)\u001b[0m\u001b[0;34m\u001b[0m\u001b[0m\n\u001b[1;32m     24\u001b[0m     \u001b[0;31m#make look good\u001b[0m\u001b[0;34m\u001b[0m\u001b[0;34m\u001b[0m\u001b[0m\n",
        "\u001b[0;32m/Users/joao/Library/Enthought/Canopy_64bit/User/lib/python2.7/site-packages/matplotlib/pyplot.pyc\u001b[0m in \u001b[0;36mplot\u001b[0;34m(*args, **kwargs)\u001b[0m\n\u001b[1;32m   2985\u001b[0m         \u001b[0max\u001b[0m\u001b[0;34m.\u001b[0m\u001b[0mhold\u001b[0m\u001b[0;34m(\u001b[0m\u001b[0mhold\u001b[0m\u001b[0;34m)\u001b[0m\u001b[0;34m\u001b[0m\u001b[0m\n\u001b[1;32m   2986\u001b[0m     \u001b[0;32mtry\u001b[0m\u001b[0;34m:\u001b[0m\u001b[0;34m\u001b[0m\u001b[0m\n\u001b[0;32m-> 2987\u001b[0;31m         \u001b[0mret\u001b[0m \u001b[0;34m=\u001b[0m \u001b[0max\u001b[0m\u001b[0;34m.\u001b[0m\u001b[0mplot\u001b[0m\u001b[0;34m(\u001b[0m\u001b[0;34m*\u001b[0m\u001b[0margs\u001b[0m\u001b[0;34m,\u001b[0m \u001b[0;34m**\u001b[0m\u001b[0mkwargs\u001b[0m\u001b[0;34m)\u001b[0m\u001b[0;34m\u001b[0m\u001b[0m\n\u001b[0m\u001b[1;32m   2988\u001b[0m         \u001b[0mdraw_if_interactive\u001b[0m\u001b[0;34m(\u001b[0m\u001b[0;34m)\u001b[0m\u001b[0;34m\u001b[0m\u001b[0m\n\u001b[1;32m   2989\u001b[0m     \u001b[0;32mfinally\u001b[0m\u001b[0;34m:\u001b[0m\u001b[0;34m\u001b[0m\u001b[0m\n",
        "\u001b[0;32m/Users/joao/Library/Enthought/Canopy_64bit/User/lib/python2.7/site-packages/matplotlib/axes.pyc\u001b[0m in \u001b[0;36mplot\u001b[0;34m(self, *args, **kwargs)\u001b[0m\n\u001b[1;32m   4135\u001b[0m         \u001b[0mlines\u001b[0m \u001b[0;34m=\u001b[0m \u001b[0;34m[\u001b[0m\u001b[0;34m]\u001b[0m\u001b[0;34m\u001b[0m\u001b[0m\n\u001b[1;32m   4136\u001b[0m \u001b[0;34m\u001b[0m\u001b[0m\n\u001b[0;32m-> 4137\u001b[0;31m         \u001b[0;32mfor\u001b[0m \u001b[0mline\u001b[0m \u001b[0;32min\u001b[0m \u001b[0mself\u001b[0m\u001b[0;34m.\u001b[0m\u001b[0m_get_lines\u001b[0m\u001b[0;34m(\u001b[0m\u001b[0;34m*\u001b[0m\u001b[0margs\u001b[0m\u001b[0;34m,\u001b[0m \u001b[0;34m**\u001b[0m\u001b[0mkwargs\u001b[0m\u001b[0;34m)\u001b[0m\u001b[0;34m:\u001b[0m\u001b[0;34m\u001b[0m\u001b[0m\n\u001b[0m\u001b[1;32m   4138\u001b[0m             \u001b[0mself\u001b[0m\u001b[0;34m.\u001b[0m\u001b[0madd_line\u001b[0m\u001b[0;34m(\u001b[0m\u001b[0mline\u001b[0m\u001b[0;34m)\u001b[0m\u001b[0;34m\u001b[0m\u001b[0m\n\u001b[1;32m   4139\u001b[0m             \u001b[0mlines\u001b[0m\u001b[0;34m.\u001b[0m\u001b[0mappend\u001b[0m\u001b[0;34m(\u001b[0m\u001b[0mline\u001b[0m\u001b[0;34m)\u001b[0m\u001b[0;34m\u001b[0m\u001b[0m\n",
        "\u001b[0;32m/Users/joao/Library/Enthought/Canopy_64bit/User/lib/python2.7/site-packages/matplotlib/axes.pyc\u001b[0m in \u001b[0;36m_grab_next_args\u001b[0;34m(self, *args, **kwargs)\u001b[0m\n\u001b[1;32m    315\u001b[0m                 \u001b[0;32mreturn\u001b[0m\u001b[0;34m\u001b[0m\u001b[0m\n\u001b[1;32m    316\u001b[0m             \u001b[0;32mif\u001b[0m \u001b[0mlen\u001b[0m\u001b[0;34m(\u001b[0m\u001b[0mremaining\u001b[0m\u001b[0;34m)\u001b[0m \u001b[0;34m<=\u001b[0m \u001b[0;36m3\u001b[0m\u001b[0;34m:\u001b[0m\u001b[0;34m\u001b[0m\u001b[0m\n\u001b[0;32m--> 317\u001b[0;31m                 \u001b[0;32mfor\u001b[0m \u001b[0mseg\u001b[0m \u001b[0;32min\u001b[0m \u001b[0mself\u001b[0m\u001b[0;34m.\u001b[0m\u001b[0m_plot_args\u001b[0m\u001b[0;34m(\u001b[0m\u001b[0mremaining\u001b[0m\u001b[0;34m,\u001b[0m \u001b[0mkwargs\u001b[0m\u001b[0;34m)\u001b[0m\u001b[0;34m:\u001b[0m\u001b[0;34m\u001b[0m\u001b[0m\n\u001b[0m\u001b[1;32m    318\u001b[0m                     \u001b[0;32myield\u001b[0m \u001b[0mseg\u001b[0m\u001b[0;34m\u001b[0m\u001b[0m\n\u001b[1;32m    319\u001b[0m                 \u001b[0;32mreturn\u001b[0m\u001b[0;34m\u001b[0m\u001b[0m\n",
        "\u001b[0;32m/Users/joao/Library/Enthought/Canopy_64bit/User/lib/python2.7/site-packages/matplotlib/axes.pyc\u001b[0m in \u001b[0;36m_plot_args\u001b[0;34m(self, tup, kwargs)\u001b[0m\n\u001b[1;32m    293\u001b[0m             \u001b[0mx\u001b[0m \u001b[0;34m=\u001b[0m \u001b[0mnp\u001b[0m\u001b[0;34m.\u001b[0m\u001b[0marange\u001b[0m\u001b[0;34m(\u001b[0m\u001b[0my\u001b[0m\u001b[0;34m.\u001b[0m\u001b[0mshape\u001b[0m\u001b[0;34m[\u001b[0m\u001b[0;36m0\u001b[0m\u001b[0;34m]\u001b[0m\u001b[0;34m,\u001b[0m \u001b[0mdtype\u001b[0m\u001b[0;34m=\u001b[0m\u001b[0mfloat\u001b[0m\u001b[0;34m)\u001b[0m\u001b[0;34m\u001b[0m\u001b[0m\n\u001b[1;32m    294\u001b[0m \u001b[0;34m\u001b[0m\u001b[0m\n\u001b[0;32m--> 295\u001b[0;31m         \u001b[0mx\u001b[0m\u001b[0;34m,\u001b[0m \u001b[0my\u001b[0m \u001b[0;34m=\u001b[0m \u001b[0mself\u001b[0m\u001b[0;34m.\u001b[0m\u001b[0m_xy_from_xy\u001b[0m\u001b[0;34m(\u001b[0m\u001b[0mx\u001b[0m\u001b[0;34m,\u001b[0m \u001b[0my\u001b[0m\u001b[0;34m)\u001b[0m\u001b[0;34m\u001b[0m\u001b[0m\n\u001b[0m\u001b[1;32m    296\u001b[0m \u001b[0;34m\u001b[0m\u001b[0m\n\u001b[1;32m    297\u001b[0m         \u001b[0;32mif\u001b[0m \u001b[0mself\u001b[0m\u001b[0;34m.\u001b[0m\u001b[0mcommand\u001b[0m \u001b[0;34m==\u001b[0m \u001b[0;34m'plot'\u001b[0m\u001b[0;34m:\u001b[0m\u001b[0;34m\u001b[0m\u001b[0m\n",
        "\u001b[0;32m/Users/joao/Library/Enthought/Canopy_64bit/User/lib/python2.7/site-packages/matplotlib/axes.pyc\u001b[0m in \u001b[0;36m_xy_from_xy\u001b[0;34m(self, x, y)\u001b[0m\n\u001b[1;32m    235\u001b[0m         \u001b[0my\u001b[0m \u001b[0;34m=\u001b[0m \u001b[0mnp\u001b[0m\u001b[0;34m.\u001b[0m\u001b[0matleast_1d\u001b[0m\u001b[0;34m(\u001b[0m\u001b[0my\u001b[0m\u001b[0;34m)\u001b[0m\u001b[0;34m\u001b[0m\u001b[0m\n\u001b[1;32m    236\u001b[0m         \u001b[0;32mif\u001b[0m \u001b[0mx\u001b[0m\u001b[0;34m.\u001b[0m\u001b[0mshape\u001b[0m\u001b[0;34m[\u001b[0m\u001b[0;36m0\u001b[0m\u001b[0;34m]\u001b[0m \u001b[0;34m!=\u001b[0m \u001b[0my\u001b[0m\u001b[0;34m.\u001b[0m\u001b[0mshape\u001b[0m\u001b[0;34m[\u001b[0m\u001b[0;36m0\u001b[0m\u001b[0;34m]\u001b[0m\u001b[0;34m:\u001b[0m\u001b[0;34m\u001b[0m\u001b[0m\n\u001b[0;32m--> 237\u001b[0;31m             \u001b[0;32mraise\u001b[0m \u001b[0mValueError\u001b[0m\u001b[0;34m(\u001b[0m\u001b[0;34m\"x and y must have same first dimension\"\u001b[0m\u001b[0;34m)\u001b[0m\u001b[0;34m\u001b[0m\u001b[0m\n\u001b[0m\u001b[1;32m    238\u001b[0m         \u001b[0;32mif\u001b[0m \u001b[0mx\u001b[0m\u001b[0;34m.\u001b[0m\u001b[0mndim\u001b[0m \u001b[0;34m>\u001b[0m \u001b[0;36m2\u001b[0m \u001b[0;32mor\u001b[0m \u001b[0my\u001b[0m\u001b[0;34m.\u001b[0m\u001b[0mndim\u001b[0m \u001b[0;34m>\u001b[0m \u001b[0;36m2\u001b[0m\u001b[0;34m:\u001b[0m\u001b[0;34m\u001b[0m\u001b[0m\n\u001b[1;32m    239\u001b[0m             \u001b[0;32mraise\u001b[0m \u001b[0mValueError\u001b[0m\u001b[0;34m(\u001b[0m\u001b[0;34m\"x and y can be no greater than 2-D\"\u001b[0m\u001b[0;34m)\u001b[0m\u001b[0;34m\u001b[0m\u001b[0m\n",
        "\u001b[0;31mValueError\u001b[0m: x and y must have same first dimension"
       ]
      },
      {
       "metadata": {},
       "output_type": "display_data",
       "png": "[encoded data removed]",
       "text": [
        "<matplotlib.figure.Figure at 0x10bdf5f50>"
       ]
      }
     ],
     "prompt_number": 17
    },
    {
     "cell_type": "code",
     "collapsed": false,
     "input": [],
     "language": "python",
     "metadata": {},
     "outputs": [],
     "prompt_number": 11
    },
    {
     "cell_type": "markdown",
     "metadata": {},
     "source": [
      "The next subroutine uses the orientation matrix to plot pole so should be more versatile:"
     ]
    },
    {
     "cell_type": "code",
     "collapsed": false,
     "input": [
      "def plot_pole_G(angles):\n",
      "    '''Plots point on X inverse pole figure from euler angles given by the array [phi1,Phi,phi2]'''\n",
      "\n",
      "    a=G_matrix(angles);\n",
      "    x1=(a[0,0])+1e-6; \n",
      "    x2=(a[1,0])+1e-6;\n",
      "    x3=(a[2,0])+1e-6;\n",
      "    \n",
      "    alpha=linspace(0,pi/4); \n",
      "    beta=linspace(0,pi/4);\n",
      "    \n",
      "    a_x=alpha*180/pi\n",
      "    a_y=ones(50)\n",
      "    b_x=alpha[-1]*180/pi*cos(beta)\n",
      "    b_y=alpha[-1]*180/pi*sin(beta)+1\n",
      "    c_x=alpha*180/pi*cos(beta[-1])\n",
      "    c_y=c_x*tan(beta[-1])+1\n",
      "\n",
      "    plot(c_x,c_y,'k')\n",
      "    plot(a_x,a_y,'k')\n",
      "    plot(b_x,b_y,'k')\n",
      "    #make look good\n",
      "    axis('equal')\n",
      "    #axis('off')\n",
      "    #add labels\n",
      "    text(-1,-1,'100')\n",
      "    text(a_x.max()+1,-1,'110')\n",
      "    text(b_x[-1]+1,b_y[-1]+1,'111')\n",
      "    \n",
      "    #plot point\n",
      "    alpha_1=arccos(x1)\n",
      "    beta_1=arctan(x3/x2)\n",
      "    p_x=alpha_1*180/pi*cos(beta_1)\n",
      "    p_y=p_x*tan(beta_1)+1\n",
      "    plot(p_x,p_y,'r+')\n",
      "    label='['+ str(angles[0]) +', ' + str(angles[1]) + ', '+str(angles[2]) + ']'\n",
      "    text(p_x+1,p_y,label)"
     ],
     "language": "python",
     "metadata": {},
     "outputs": [],
     "prompt_number": 12
    },
    {
     "cell_type": "code",
     "collapsed": false,
     "input": [
      "plot_pole_G([0,-45,0])"
     ],
     "language": "python",
     "metadata": {},
     "outputs": [
      {
       "output_type": "stream",
       "stream": "stderr",
       "text": [
        "-c:31: RuntimeWarning: invalid value encountered in arccos\n",
        "/Users/joao/Library/Enthought/Canopy_64bit/User/lib/python2.7/site-packages/IPython/core/formatters.py:239: FormatterWarning: Exception in image/png formatter: cannot convert float NaN to integer\n",
        "  FormatterWarning,\n"
       ]
      },
      {
       "metadata": {},
       "output_type": "display_data",
       "text": [
        "<matplotlib.figure.Figure at 0x11248d910>"
       ]
      }
     ],
     "prompt_number": 13
    },
    {
     "cell_type": "markdown",
     "metadata": {},
     "source": [
      "This script takes unequally spaced datapoints and plots an interpolated pole figure. In this example we are plotting $\\alpha+\\beta$."
     ]
    },
    {
     "cell_type": "code",
     "collapsed": false,
     "input": [
      "n=500\n",
      "alpha=linspace(0,pi/4,num=n)\n",
      "beta=linspace(0,pi/4,num=n)\n",
      "\n",
      "a_x=alpha*180/pi\n",
      "a_y=ones(n)\n",
      "b_x=alpha[-1]*180/pi*cos(beta)\n",
      "b_y=alpha[-1]*180/pi*sin(beta)+1\n",
      "c_x=alpha*180/pi*cos(beta[-1])\n",
      "c_y=c_x*tan(beta[-1])+1\n",
      "\n",
      "plot(c_x,c_y,'k',lw=2)\n",
      "plot(a_x,a_y,'k',lw=2)\n",
      "plot(b_x,b_y,'k',lw=2)\n",
      "#make look good\n",
      "axis('equal')\n",
      "axis('off')\n",
      "#add labels\n",
      "text(-1,-1,'100')\n",
      "text(a_x.max()+1,-1,'110',ha='center')\n",
      "text(b_x[-1]+1,b_y[-1]+1,'111',ha='center')\n",
      "\n",
      "'''creating a series of x and y points'''\n",
      "p_x_list=list(a_x)+list(b_x)+list(c_x)\n",
      "p_y_list=list(a_y)+list(b_y)+list(c_y)\n",
      "\n",
      "for i,alpha_1 in enumerate(alpha):\n",
      "    for beta_1 in beta[::(n*2/(i+1))]:\n",
      "        p_x=alpha_1*180/pi*cos(beta_1)\n",
      "        p_y=p_x*tan(beta_1)\n",
      "        p_x_list.append(p_x)\n",
      "        p_y_list.append(p_y)\n",
      "\n",
      "xi = a_x\n",
      "yi = c_y\n",
      "Z=array(p_x_list)+array(p_y_list)\n",
      "# grid the data.\n",
      "zi = griddata(p_x_list, p_y_list, Z, xi, yi)\n",
      "pcolormesh(xi,yi,zi)\n",
      "colorbar() # draw colorbar"
     ],
     "language": "python",
     "metadata": {},
     "outputs": [
      {
       "output_type": "stream",
       "stream": "stderr",
       "text": [
        "/Users/joao/Library/Enthought/Canopy_64bit/User/lib/python2.7/site-packages/matplotlib/delaunay/triangulate.py:104: DuplicatePointWarning: Input data contains duplicate x,y points; some values are ignored.\n",
        "  DuplicatePointWarning,\n"
       ]
      },
      {
       "metadata": {},
       "output_type": "pyout",
       "prompt_number": 14,
       "text": [
        "<matplotlib.colorbar.Colorbar instance at 0x1104895a8>"
       ]
      },
      {
       "metadata": {},
       "output_type": "display_data",
       "png": "[encoded data removed]",
       "text": [
        "<matplotlib.figure.Figure at 0x1104eee90>"
       ]
      }
     ],
     "prompt_number": 14
    },
    {
     "cell_type": "code",
     "collapsed": false,
     "input": [],
     "language": "python",
     "metadata": {},
     "outputs": [],
     "prompt_number": 14
    }
   ],
   "metadata": {}
  }
 ]
}